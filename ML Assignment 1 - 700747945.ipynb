{
 "cells": [
  {
   "cell_type": "code",
   "execution_count": 43,
   "id": "28292f44",
   "metadata": {},
   "outputs": [
    {
     "name": "stdout",
     "output_type": "stream",
     "text": [
      "sorted list: [19, 19, 20, 22, 24, 24, 24, 25, 25, 26]\n",
      "min num: [19] max num: [26]\n",
      "extended list: [19, 19, 20, 22, 24, 24, 24, 25, 25, 26, 19, 26]\n",
      "median age: {24.0}\n",
      "average age: {22.75}\n",
      "range of the ages: {7}\n"
     ]
    }
   ],
   "source": [
    "#Question 1\n",
    "# The following is a list of 10 students ages:\n",
    "# ages = [19, 22, 19, 24, 20, 25, 26, 24, 25, 24]\n",
    "# Sort the list and find the min and max age\n",
    "# Add the min age and the max age again to the list\n",
    "# Find the median age (one middle item or two middle items divided by two)\n",
    "# Find the average age (sum of all items divided by their number)\n",
    "# Find the range of the ages (max minus min)\n",
    "\n",
    "ages = [19, 22, 19, 24, 20, 25, 26, 24, 25, 24]\n",
    "\n",
    "ages.sort()\n",
    "\n",
    "print(\"sorted list:\", ages)\n",
    "\n",
    "print(f\"min num:\", [min(ages)], \"max num:\", [max(ages)])\n",
    "\n",
    "ages.extend([min(ages) , max(ages)])\n",
    "\n",
    "print(f\"extended list:\" , ages)\n",
    "\n",
    "n = int(len(ages))\n",
    "\n",
    "m = n // 2\n",
    "\n",
    "if n % 2 == 0: \n",
    "    print(f\"median age:\" , {(ages[m-1]  + ages[m])/ 2}) \n",
    "else :\n",
    "    print(f\"median age:\" ,  {(ages[m])})\n",
    "    \n",
    "print(f\"average age:\" , {sum(ages)/len(ages)})\n",
    "\n",
    "print(f\"range of the ages:\" , {max(ages) - min(ages)})\n"
   ]
  },
  {
   "cell_type": "code",
   "execution_count": 7,
   "id": "4210443f",
   "metadata": {},
   "outputs": [
    {
     "name": "stdout",
     "output_type": "stream",
     "text": [
      "length of student dictionary:9\n",
      "value of skills: ['Quick learner']\n",
      "type of the skills: <class 'list'>\n",
      "['Quick learner', 'hardworking', 'leadership']\n",
      "keys of student dictionary:dict_keys(['first_name', 'last_name', 'gender', 'age', 'martial status', 'skills', 'country', 'city', 'address'])\n",
      "values of student dictionary: dict_values(['Navya', 'Bonthu', 'female', '23', 'single', ['Quick learner', 'hardworking', 'leadership'], 'india', 'Eluru', 'Rangapuram'])\n"
     ]
    }
   ],
   "source": [
    "#Question 2\n",
    "  #Create an empty dictionary called dog\n",
    "  #Add name, color, breed, legs, age to the dog dictionary\n",
    "  # Create a student dictionary and add first_name, last_name, gender, age, marital status,skills, country, city and address as keys for the dictionary\n",
    "  # Get the length of the student dictionary\n",
    "  #Get the value of skills and check the data type, it should be a list\n",
    "  #Modify the skills values by adding one or two skills\n",
    "  #Get the dictionary keys as a list\n",
    "  #Get the dictionary values as a list\n",
    "\n",
    "\n",
    "\n",
    "dog = {}\n",
    "\n",
    "dog = {\"name\":\"snoopy\", \"color\":\"white\", \"breed\":\"labrador\", \"legs\":\"4\", \"age\":\"7\"}\n",
    "\n",
    "student = {}\n",
    "\n",
    "student ={\"first_name\":\"Navya\",\"last_name\":\"Bonthu\",\"gender\":\"female\",\"age\":\"23\",\"martial status\":\"single\",\n",
    "           \"skills\":['Quick learner'],\"country\":\"india\",\"city\":\"Eluru\",\"address\":\"Rangapuram\"}\n",
    "\n",
    "print(f\"length of student dictionary:{len(student)}\")\n",
    "\n",
    "print(f\"value of skills: {student['skills']}\")\n",
    "\n",
    "print(f\"type of the skills: {type(student['skills'])}\")\n",
    "\n",
    "student['skills'].extend(['hardworking', 'leadership']) \n",
    "\n",
    "print(student['skills'])\n",
    "\n",
    "print(f\"keys of student dictionary:{student.keys()}\")   \n",
    "\n",
    "print(f\"values of student dictionary: {student.values()}\")\n"
   ]
  },
  {
   "cell_type": "code",
   "execution_count": 14,
   "id": "c3855166",
   "metadata": {},
   "outputs": [
    {
     "name": "stdout",
     "output_type": "stream",
     "text": [
      "('Sai', 'Nani', 'Gopi', 'Divya', 'Suma', 'Anusha', 'Pavani')\n",
      "sibilings count: 7\n",
      "family members: ('Sai', 'Nani', 'Gopi', 'Divya', 'Suma', 'Anusha', 'Pavani', 'subbarao', 'sridevi')\n"
     ]
    }
   ],
   "source": [
    "#Question 3\n",
    "  #Create a tuple containing names of your sisters and your brothers (imaginary siblings are fine)\n",
    "  #Join brothers and sisters tuples and assign it to siblings\n",
    "  #How many siblings do you have?\n",
    "  #Modify the siblings tuple and add the name of your father and mother and assign it to family_members\n",
    "\n",
    "brothers = (\"Sai\",\"Nani\",\"Gopi\")\n",
    "\n",
    "sisters = (\"Divya\",\"Suma\",\"Anusha\",\"Pavani\")\n",
    "\n",
    "sibilings = brothers + sisters\n",
    "\n",
    "print(sibilings)\n",
    "\n",
    "print(f\"sibilings count: {len(sibilings)}\")\n",
    "\n",
    "family_member = sibilings + (\"subbarao\", \"sridevi\")\n",
    "\n",
    "print(f\"family members: {family_member}\")\n",
    "\n",
    "\n"
   ]
  },
  {
   "cell_type": "code",
   "execution_count": 26,
   "id": "7fb1d45f",
   "metadata": {},
   "outputs": [
    {
     "name": "stdout",
     "output_type": "stream",
     "text": [
      "length of the set it_companies: 7\n",
      "{'Oracle', 'Facebook', 'Amazon', 'IBM', 'Google', 'Apple', 'Twitter', 'Microsoft'}\n",
      "{'Oracle', 'Facebook', 'Amazon', 'accenture', 'IBM', 'infosys', 'cognizant', 'Google', 'Apple', 'Twitter', 'Microsoft'}\n",
      "{'Oracle', 'Facebook', 'Amazon', 'accenture', 'infosys', 'cognizant', 'Google', 'Apple', 'Twitter', 'Microsoft'}\n",
      "{'Oracle', 'Facebook', 'Amazon', 'accenture', 'infosys', 'cognizant', 'Google', 'Apple', 'Twitter', 'Microsoft'}\n",
      "join A union B:{19, 20, 22, 24, 25, 26, 27, 28}\n",
      "join A intersection B:{19, 20, 22, 24, 25, 26}\n",
      "if A is subset of B:True\n",
      "if A is disjoint of B:False\n",
      "{19, 20, 22, 24, 25, 26, 27, 28}\n",
      "{19, 20, 22, 24, 25, 26, 27, 28}\n",
      "symmetric difference:set()\n",
      "deleting both A and B:  None None\n",
      "The length of the list age:8\n",
      "The length of the set age:5\n",
      "{19, 22, 24, 25, 26}\n"
     ]
    }
   ],
   "source": [
    "#Question 4\n",
    "  #it_companies = {'Facebook', 'Google', 'Microsoft', 'Apple', 'IBM', 'Oracle', 'Amazon'}\n",
    "  #A = {19, 22, 24, 20, 25, 26}\n",
    "  #B = {19, 22, 20, 25, 26, 24, 28, 27}\n",
    "  #age = [22, 19, 24, 25, 26, 24, 25, 24]\n",
    "  # Find the length of the set it_companies\n",
    "  # Add 'Twitter' to it_companies\n",
    "  # Insert multiple IT companies at once to the set it_companies\n",
    "  # Remove one of the companies from the set it_companies\n",
    "  # What is the difference between remove and discard\n",
    "  # Join A and B\n",
    "  # Find A intersection B\n",
    "  # Is A subset of B\n",
    "  # Are A and B disjoint sets\n",
    "  # Join A with B and B with A\n",
    "  # What is the symmetric difference between A and B\n",
    "  # Delete the sets completely\n",
    "  # Convert the ages to a set and compare the length of the list and the set.\n",
    "    \n",
    "it_companies = {'Facebook', 'Google', 'Microsoft', 'Apple', 'IBM', 'Oracle', 'Amazon'}\n",
    "\n",
    "print(f\"length of the set it_companies: {len(it_companies)}\")\n",
    "\n",
    "it_companies.add(\"Twitter\")\n",
    "\n",
    "print(it_companies)\n",
    "\n",
    "it_companies.update(['infosys', 'accenture', 'cognizant'])\n",
    "\n",
    "print(it_companies)\n",
    "\n",
    "it_companies.remove('IBM')                #remove one company(which raises error if company doesn't exist in set)\n",
    "\n",
    "print(it_companies)\n",
    "\n",
    "it_companies.discard('IBM')               #discard one company(which doesn't raise error if company doesn't exist in set)\n",
    "\n",
    "print(it_companies)\n",
    "\n",
    "\n",
    "A = {19, 22, 24, 20, 25, 26}\n",
    "B = {19, 22, 20, 25, 26, 24, 28, 27}\n",
    "age = [22, 19, 24, 25, 26, 24, 25, 24]\n",
    "\n",
    "\n",
    "print(f\"join A union B:{A | B}\")                          \n",
    "print(f\"join A intersection B:{A & B}\")                   \n",
    "print(f\"if A is subset of B:{A.issubset(B)}\")             \n",
    "print(f\"if A is disjoint of B:{A.isdisjoint(B)}\")\n",
    "\n",
    "A.update(B)                                               \n",
    "print(A) \n",
    "B.update(A)\n",
    "print(B)\n",
    "\n",
    "print(f\"symmetric difference:{A.symmetric_difference(B)}\") \n",
    "\n",
    "A.clear()\n",
    "B.clear()\n",
    "print(f\"deleting both A and B: \", A.clear(), B.clear())   \n",
    "\n",
    "print(f\"The length of the list age:{len(age)}\")\n",
    "\n",
    "AgeSet=set(age)    \n",
    "\n",
    "print(f\"The length of the set age:{len(AgeSet)}\")\n",
    "\n",
    "print(AgeSet)\n",
    "    \n"
   ]
  },
  {
   "cell_type": "code",
   "execution_count": 32,
   "id": "590aba90",
   "metadata": {},
   "outputs": [
    {
     "name": "stdout",
     "output_type": "stream",
     "text": [
      "area of a circle: 2826.0\n",
      "circumference of a circle: 188.4\n",
      "enter radius:66\n",
      "Area from user input radius:  13677.84\n"
     ]
    }
   ],
   "source": [
    "#Question 5\n",
    "  #The radius of a circle is 30 meters.\n",
    "     #Calculate the area of a circle and assign the value to a variable name of _area_of_circle_\n",
    "     #Calculate the circumference of a circle and assign the value to a variable name of _circum_of_circle_\n",
    "     #Take radius as user input and calculate the area.\n",
    "        \n",
    "\n",
    "radius = 30\n",
    "\n",
    "area_of_circle = 3.14*(radius ** 2)\n",
    "\n",
    "print(f\"area of a circle: {area_of_circle}\")\n",
    "\n",
    "circum_of_circle = 2*3.14*radius\n",
    "\n",
    "print(f\"circumference of a circle: {circum_of_circle}\")\n",
    "\n",
    "radius_input = int(input(\"enter radius: \"))\n",
    "\n",
    "new_area = 3.14*radius_input*radius_input\n",
    "\n",
    "print(f\"Area from user input radius: \", new_area)\n",
    "\n"
   ]
  },
  {
   "cell_type": "code",
   "execution_count": 33,
   "id": "a9de8c46",
   "metadata": {},
   "outputs": [
    {
     "name": "stdout",
     "output_type": "stream",
     "text": [
      "['I', 'am', 'a', 'teacher', 'and', 'I', 'love', 'to', 'inspire', 'and', 'teach', 'people']\n",
      "number of unique words in the given string:  10\n"
     ]
    }
   ],
   "source": [
    "#Question 6\n",
    "   #“I am a teacher and I love to inspire and teach people”\n",
    "   #How many unique words have been used in the sentence? Use the split methods and set to get the unique words.\n",
    "\n",
    "\n",
    "sentence = \"I am a teacher and I love to inspire and teach people\"\n",
    "list = sentence.split(' ')          \n",
    "print(list)\n",
    "unique_words=len(set(list))            \n",
    "print(f\"number of unique words in the given string: \",unique_words )"
   ]
  },
  {
   "cell_type": "code",
   "execution_count": 34,
   "id": "cd6d53a5",
   "metadata": {},
   "outputs": [
    {
     "name": "stdout",
     "output_type": "stream",
     "text": [
      "Name\t\tAge\t\tCountry\t\tCity\n",
      "Asabeneh\t250\t\tFinland\t\tHelsinki\n"
     ]
    }
   ],
   "source": [
    "#Question 7\n",
    "#Use a tab escape sequence to get the following lines.\n",
    "#Name     Age Country City\n",
    "#Asabeneh 250 Finland Helsinki\n",
    "\n",
    "print(\"Name\\t\\tAge\\t\\tCountry\\t\\tCity\\nAsabeneh\\t250\\t\\tFinland\\t\\tHelsinki\")\n"
   ]
  },
  {
   "cell_type": "code",
   "execution_count": 35,
   "id": "8b981684",
   "metadata": {},
   "outputs": [
    {
     "name": "stdout",
     "output_type": "stream",
     "text": [
      "The area of a circle with radius 10 is 314.0 meters square.\n"
     ]
    }
   ],
   "source": [
    "#Question 8\n",
    "  #Use the string formatting method to display the following:\n",
    "  #radius = 10\n",
    "  #area = 3.14 * radius ** 2\n",
    "  #“The area of a circle with radius 10 is 314 meters square.”\n",
    "\n",
    "radius = 10\n",
    "area = 3.14 * radius ** 2\n",
    "print(f\"The area of a circle with radius {radius} is {area} meters square.\")\n"
   ]
  },
  {
   "cell_type": "code",
   "execution_count": 36,
   "id": "db21b834",
   "metadata": {},
   "outputs": [
    {
     "name": "stdout",
     "output_type": "stream",
     "text": [
      "weight in kgs:  [68.0388, 70.30676, 65.77083999999999, 67.131616, 54.431039999999996, 58.96696, 45.3592]\n"
     ]
    }
   ],
   "source": [
    "#Question 9\n",
    "  #Write a program, which reads weights (lbs.) of N students into a list and convert these weights to kilograms in a separate list using Loop. N: No of students (Read input from user)\n",
    "  #Ex: L1: [150, 155, 145, 148]\n",
    "  #Output: [68.03, 70.3, 65.77, 67.13]\n",
    "    \n",
    "weight_lbs = [150, 155, 145, 148, 120, 130, 100]\n",
    "weight_kgs = []\n",
    "\n",
    "#converting weight to kgs\n",
    "for x in weight_lbs:\n",
    "    weight_kgs.append(x*0.453592)\n",
    "print(f\"weight in kgs: \",weight_kgs)"
   ]
  },
  {
   "cell_type": "code",
   "execution_count": null,
   "id": "cbd1a619",
   "metadata": {},
   "outputs": [],
   "source": [
    "#The diagram below shows a dataset with 2 classes and 8 data points, each with only one feature value, labeled f. Note that there are two data points with the same feature value of 6. These are\n",
    "#shown as two x’s one above the other. Provide stepwise mathematical solution, do not write code for it.\n",
    "#1. Divide this data equally into two parts. Use first part as training and second part as testing. Using KNN classifier, for K=3, what would be the predicted outputs for the test\n",
    "#samples? Show how you arrived at your answer.\n",
    "#2. Compute the confusion matrix for this and calculate accuracy, sensitivity and specificity values."
   ]
  }
 ],
 "metadata": {
  "kernelspec": {
   "display_name": "Python 3 (ipykernel)",
   "language": "python",
   "name": "python3"
  },
  "language_info": {
   "codemirror_mode": {
    "name": "ipython",
    "version": 3
   },
   "file_extension": ".py",
   "mimetype": "text/x-python",
   "name": "python",
   "nbconvert_exporter": "python",
   "pygments_lexer": "ipython3",
   "version": "3.8.6"
  }
 },
 "nbformat": 4,
 "nbformat_minor": 5
}
